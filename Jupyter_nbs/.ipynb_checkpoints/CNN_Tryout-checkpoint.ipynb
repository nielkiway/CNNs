{
 "cells": [
  {
   "cell_type": "code",
   "execution_count": null,
   "metadata": {},
   "outputs": [],
   "source": [
    "import PIL\n",
    "from PIL import Image\n",
    "import numpy as np\n",
    "import os \n",
    "import random\n",
    "from sklearn.model_selection import train_test_split\n",
    "from sklearn.preprocessing import LabelBinarizer\n",
    "from sklearn.metrics import classification_report\n",
    "from keras.models import Sequential\n",
    "from keras.optimizers import SGD, Adam\n",
    "from keras.utils import to_categorical\n",
    "import matplotlib.pyplot as plt\n",
    "from keras.preprocessing.image import ImageDataGenerator\n",
    "\n",
    "from keras.layers.normalization import BatchNormalization\n",
    "from keras.layers.convolutional import Conv2D\n",
    "from keras.layers.convolutional import MaxPooling2D\n",
    "from keras.layers.core import Activation\n",
    "from keras.layers.core import Flatten\n",
    "from keras.layers.core import Dropout\n",
    "from keras.layers.core import Dense\n",
    "from keras import backend as K\n",
    "from keras import regularizers"
   ]
  },
  {
   "cell_type": "code",
   "execution_count": null,
   "metadata": {},
   "outputs": [],
   "source": [
    "class SmallVGGNet:\n",
    "    def build(width, height, depth, classes):\n",
    "        model = Sequential()\n",
    "        inputShape = (height, width, depth)\n",
    "        chanDim = -1\n",
    "        \n",
    "        if K.image_data_format() == \"channels_first\":\n",
    "            inputShape = (depth, height, width)\n",
    "            chanDim = 1\n",
    "            \n",
    "            \n",
    "        #if K.image_data_format() == 'channels_first':\n",
    "        #    x_train = x_train.reshape(x_train.shape[0], 1, img_rows, img_cols)\n",
    "        #    x_test = x_test.reshape(x_test.shape[0], 1, img_rows, img_cols)\n",
    "        #    print(x_train.shape)\n",
    "        #    input_shape = (1, img_rows, img_cols)\n",
    "        #else:\n",
    "        #    x_train = x_train.reshape(x_train.shape[0], img_rows, img_cols, 1)\n",
    "        #    x_test = x_test.reshape(x_test.shape[0], img_rows, img_cols, 1)\n",
    "        #    input_shape = (img_rows, img_cols, 1)\n",
    "            \n",
    "            \n",
    "        model.add(Conv2D(32,(3,3), padding=\"same\", input_shape = inputShape))\n",
    "        model.add(Activation(\"relu\"))\n",
    "        model.add(BatchNormalization(axis = chanDim))\n",
    "        model.add(MaxPooling2D(pool_size = (2,2)))\n",
    "        model.add(Dropout(0.25))\n",
    "        \n",
    "        model.add(Conv2D(64, (3, 3), padding=\"same\"))\n",
    "        model.add(Activation(\"relu\"))\n",
    "        model.add(BatchNormalization(axis=chanDim))\n",
    "        model.add(Conv2D(64, (3, 3), padding=\"same\"))\n",
    "        model.add(Activation(\"relu\"))\n",
    "        model.add(BatchNormalization(axis=chanDim))\n",
    "        model.add(MaxPooling2D(pool_size=(2, 2)))\n",
    "        model.add(Dropout(0.25))\n",
    "        \n",
    "        #model.add(Conv2D(128, (3, 3), padding=\"same\"))\n",
    "        #model.add(Activation(\"relu\"))\n",
    "        #model.add(BatchNormalization(axis=chanDim))\n",
    "        #model.add(Conv2D(128, (3, 3), padding=\"same\"))\n",
    "        #model.add(Activation(\"relu\"))\n",
    "        #model.add(BatchNormalization(axis=chanDim))\n",
    "        #model.add(Conv2D(128, (3, 3), padding=\"same\"))\n",
    "        #model.add(Activation(\"relu\"))\n",
    "        #model.add(BatchNormalization(axis=chanDim))\n",
    "        #model.add(MaxPooling2D(pool_size=(2, 2)))\n",
    "        #model.add(Dropout(0.25))\n",
    "        \n",
    "       # first (and only) set of FC => RELU layers\n",
    "        model.add(Flatten())\n",
    "        model.add(Dense(256))\n",
    "        model.add(Activation(\"relu\"))\n",
    "        model.add(BatchNormalization())\n",
    "        model.add(Dropout(0.5))\n",
    " \n",
    "        # softmax classifier\n",
    "        model.add(Dense(classes))\n",
    "        model.add(Activation(\"sigmoid\"))\n",
    " \n",
    "        # return the constructed network architecture\n",
    "        return model"
   ]
  },
  {
   "cell_type": "code",
   "execution_count": null,
   "metadata": {},
   "outputs": [],
   "source": [
    "class ownCNN:\n",
    "    def build(width, height, depth, classes):\n",
    "        model = Sequential()\n",
    "        inputShape = (height, width, depth)\n",
    "        chanDim = -1\n",
    "        \n",
    "        if K.image_data_format() == \"channels_first\":\n",
    "            inputShape = (depth, height, width)\n",
    "            chanDim = 1\n",
    "            \n",
    "            \n",
    "        model.add(Conv2D(3,(3,3), padding=\"same\", input_shape = inputShape, kernel_regularizer=regularizers.l2(0.01)))\n",
    "        model.add(Activation(\"elu\"))\n",
    "        model.add(BatchNormalization(axis = chanDim))\n",
    "        model.add(MaxPooling2D(pool_size = (2,2)))    \n",
    "        \n",
    "        model.add(Conv2D(9, (3, 3), padding=\"same\"))\n",
    "        model.add(Activation(\"elu\"))\n",
    "        model.add(BatchNormalization(axis=chanDim))\n",
    "        #model.add(MaxPooling2D(pool_size = (2,2))) \n",
    "        \n",
    "        #model.add(Conv2D(32, (3, 3), padding=\"same\"))\n",
    "        #model.add(Activation(\"elu\"))\n",
    "        #model.add(BatchNormalization(axis=chanDim))\n",
    "                \n",
    "       # first (and only) set of FC => RELU layers\n",
    "        model.add(Flatten())\n",
    "        model.add(Dropout(0.25))\n",
    "        model.add(Dense(64))\n",
    "        model.add(Activation(\"elu\"))\n",
    "        model.add(BatchNormalization())\n",
    "        \n",
    " \n",
    "        # softmax classifier\n",
    "        model.add(Dense(classes))\n",
    "        model.add(Activation(\"sigmoid\"))\n",
    " \n",
    "        # return the constructed network architecture\n",
    "        return model"
   ]
  },
  {
   "cell_type": "code",
   "execution_count": null,
   "metadata": {},
   "outputs": [],
   "source": [
    "dirs = ['/media/jan/Volume1/Trainingsdaten/datasets/Grid_size_874_binary/1layer/no_porosity',\n",
    "        '/media/jan/Volume1/Trainingsdaten/datasets/Grid_size_874_binary/1layer/porosity']\n",
    "\n",
    "length = 5000\n",
    "image_paths = []\n",
    "labels = []\n",
    "data = []"
   ]
  },
  {
   "cell_type": "code",
   "execution_count": null,
   "metadata": {},
   "outputs": [],
   "source": [
    "for d in dirs: \n",
    "    cur_paths = []\n",
    "    for path in os.listdir(d):\n",
    "        full_path = os.path.join(d,path)\n",
    "        cur_paths.append(full_path)\n",
    "        \n",
    "    random.seed(42)\n",
    "    random.shuffle(cur_paths)\n",
    "    cur_paths = cur_paths[:length]\n",
    "    \n",
    "    image_paths.append(cur_paths)        \n",
    "\n",
    "image_paths = [val for sublist in image_paths for val in sublist]\n",
    "random.seed(42)\n",
    "random.shuffle(image_paths)\n",
    "\n",
    "######\n",
    "for path in image_paths:\n",
    "    label = path.split(os.path.sep)[-2]\n",
    "    labels.append(label)\n",
    "    \n",
    "    array = np.load(path)\n",
    "    img = Image.fromarray(array)\n",
    "    img = img.resize((128, 128), PIL.Image.LANCZOS)\n",
    "    array_resized_flattened = np.array(img)\n",
    "    data.append(array_resized_flattened)\n",
    "    \n",
    "# scale the raw pixel intensities to the range [0, 1]\n",
    "data = np.array(data, dtype=\"float\") / 255.0\n",
    "labels = np.array(labels)\n",
    "\n",
    "(trainX, testX, trainY, testY) = train_test_split(data, labels, test_size=0.25, random_state=42)\n",
    "\n",
    "lb = LabelBinarizer()\n",
    "trainY = lb.fit_transform(trainY)\n",
    "trainY = np.hstack((trainY, 1- trainY))\n",
    "\n",
    "testY = lb.transform(testY)\n",
    "testY = np.hstack((testY, 1- testY))"
   ]
  },
  {
   "cell_type": "code",
   "execution_count": null,
   "metadata": {},
   "outputs": [],
   "source": [
    "trainX = trainX.reshape(trainX.shape[0], trainX.shape[1], trainX.shape[2], 1)\n",
    "testX = testX.reshape(testX.shape[0], testX.shape[1], testX.shape[2], 1)"
   ]
  },
  {
   "cell_type": "code",
   "execution_count": null,
   "metadata": {},
   "outputs": [],
   "source": [
    "trainX.shape"
   ]
  },
  {
   "cell_type": "code",
   "execution_count": null,
   "metadata": {},
   "outputs": [],
   "source": [
    "trainY.shape"
   ]
  },
  {
   "cell_type": "code",
   "execution_count": null,
   "metadata": {},
   "outputs": [],
   "source": [
    "testX.shape"
   ]
  },
  {
   "cell_type": "code",
   "execution_count": null,
   "metadata": {},
   "outputs": [],
   "source": [
    "testY.shape"
   ]
  },
  {
   "cell_type": "code",
   "execution_count": null,
   "metadata": {},
   "outputs": [],
   "source": [
    "model = SmallVGGNet.build(width=256, height=256, depth=1, classes=len(lb.classes_))"
   ]
  },
  {
   "cell_type": "code",
   "execution_count": null,
   "metadata": {},
   "outputs": [],
   "source": [
    "model2 = ownCNN.build(width=128, height=128, depth=1, classes=len(lb.classes_))"
   ]
  },
  {
   "cell_type": "code",
   "execution_count": null,
   "metadata": {},
   "outputs": [],
   "source": [
    "INIT_LR = 0.001\n",
    "EPOCHS = 10\n",
    "BS = 32\n",
    "\n",
    "print(\"[INFO] training network...\")\n",
    "opt = SGD(lr=INIT_LR, decay=INIT_LR / EPOCHS)\n",
    "model.compile(loss=\"binary_crossentropy\", optimizer=opt, metrics=[\"accuracy\"])"
   ]
  },
  {
   "cell_type": "code",
   "execution_count": null,
   "metadata": {},
   "outputs": [],
   "source": [
    "INIT_LR = 0.01\n",
    "EPOCHS = 10\n",
    "BS = 32\n",
    "\n",
    "print(\"[INFO] training network...\")\n",
    "opt = Adam (lr = INIT_LR)#, decay=INIT_LR / EPOCHS) # SGD(lr=INIT_LR, decay=INIT_LR / EPOCHS)\n",
    "model2.compile(loss=\"binary_crossentropy\", optimizer=opt, metrics=[\"accuracy\"])"
   ]
  },
  {
   "cell_type": "code",
   "execution_count": null,
   "metadata": {},
   "outputs": [],
   "source": [
    "# construct the image generator for data augmentation\n",
    "aug = ImageDataGenerator(vertical_flip= True,horizontal_flip=True)"
   ]
  },
  {
   "cell_type": "code",
   "execution_count": null,
   "metadata": {},
   "outputs": [],
   "source": [
    "H = model.fit_generator(aug.flow(trainX, trainY, batch_size=BS),validation_data=(testX, testY), steps_per_epoch=len(trainX) // BS,epochs=EPOCHS)"
   ]
  },
  {
   "cell_type": "code",
   "execution_count": null,
   "metadata": {},
   "outputs": [],
   "source": [
    "H = model2.fit_generator(aug.flow(trainX, trainY, batch_size=BS),validation_data=(testX, testY), steps_per_epoch=len(trainX) // BS,epochs=EPOCHS)"
   ]
  },
  {
   "cell_type": "code",
   "execution_count": null,
   "metadata": {},
   "outputs": [],
   "source": [
    "model2.summary()"
   ]
  },
  {
   "cell_type": "code",
   "execution_count": null,
   "metadata": {},
   "outputs": [],
   "source": [
    "# evaluate the network\n",
    "print(\"[INFO] evaluating network...\")\n",
    "predictions = model2.predict(testX, batch_size=32)\n",
    "print(classification_report(testY.argmax(axis=1),\n",
    "\tpredictions.argmax(axis=1), target_names=lb.classes_))\n",
    " \n",
    "# plot the training loss and accuracy\n",
    "N = np.arange(0, EPOCHS)\n",
    "plt.style.use(\"ggplot\")\n",
    "plt.figure()\n",
    "plt.plot(N, H.history[\"loss\"], label=\"train_loss\")\n",
    "plt.plot(N, H.history[\"val_loss\"], label=\"val_loss\")\n",
    "plt.plot(N, H.history[\"acc\"], label=\"train_acc\")\n",
    "plt.plot(N, H.history[\"val_acc\"], label=\"val_acc\")\n",
    "plt.title(\"Training Loss and Accuracy (SmallVGGNet)\")\n",
    "plt.xlabel(\"Epoch #\")\n",
    "plt.ylabel(\"Loss/Accuracy\")\n",
    "plt.legend()\n",
    "#plt.savefig(args[\"plot\"])"
   ]
  },
  {
   "cell_type": "code",
   "execution_count": null,
   "metadata": {},
   "outputs": [],
   "source": []
  }
 ],
 "metadata": {
  "kernelspec": {
   "display_name": "Python 3",
   "language": "python",
   "name": "python3"
  },
  "language_info": {
   "codemirror_mode": {
    "name": "ipython",
    "version": 3
   },
   "file_extension": ".py",
   "mimetype": "text/x-python",
   "name": "python",
   "nbconvert_exporter": "python",
   "pygments_lexer": "ipython3",
   "version": "3.6.10"
  }
 },
 "nbformat": 4,
 "nbformat_minor": 2
}
